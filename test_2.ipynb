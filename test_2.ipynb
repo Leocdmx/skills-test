{
 "cells": [
  {
   "attachments": {},
   "cell_type": "markdown",
   "metadata": {},
   "source": [
    "Librerias"
   ]
  },
  {
   "cell_type": "code",
   "execution_count": 65,
   "metadata": {},
   "outputs": [],
   "source": [
    "#Manejo de datos \n",
    "import pandas as pd\n",
    "import numpy as np\n",
    "\n",
    "\n",
    "\n",
    "#Gráficas\n",
    "import seaborn as sns\n",
    "import matplotlib.pyplot as plt\n",
    "\n",
    "#Modelos\n",
    "from  scipy import stats\n",
    "from sklearn.model_selection import train_test_split\n",
    "import statsmodels.api as sm\n",
    "from sklearn.metrics import accuracy_score"
   ]
  },
  {
   "attachments": {},
   "cell_type": "markdown",
   "metadata": {},
   "source": [
    "Carga de insumos y exploración inicial"
   ]
  },
  {
   "cell_type": "code",
   "execution_count": 3,
   "metadata": {},
   "outputs": [
    {
     "name": "stderr",
     "output_type": "stream",
     "text": [
      "C:\\Users\\León\\AppData\\Local\\Temp\\ipykernel_20632\\432284243.py:2: DtypeWarning: Columns (127) have mixed types. Specify dtype option on import or set low_memory=False.\n",
      "  auto_df = pd.read_csv('upgradeddb.csv')\n"
     ]
    }
   ],
   "source": [
    "#Cargad e insumos\n",
    "auto_df = pd.read_csv('upgradeddb.csv')"
   ]
  },
  {
   "cell_type": "code",
   "execution_count": 4,
   "metadata": {},
   "outputs": [
    {
     "name": "stdout",
     "output_type": "stream",
     "text": [
      "El dataset cuenta con \u001b[1m96374 renglones\u001b[0m y \u001b[1m138 columnas\u001b[0m \n",
      "\n"
     ]
    },
    {
     "data": {
      "text/plain": [
       "Unnamed: 0                   0\n",
       "account_id                   0\n",
       "customer                     0\n",
       "opening_da                   0\n",
       "loan_type                    0\n",
       "                         ...  \n",
       "cve_umun                     0\n",
       "n_charge_stations        37056\n",
       "in_centro_urbano             0\n",
       "in_zona urbana               0\n",
       "in_zona_metropolitana        0\n",
       "Length: 138, dtype: int64"
      ]
     },
     "execution_count": 4,
     "metadata": {},
     "output_type": "execute_result"
    }
   ],
   "source": [
    "# Descripción general\n",
    "print(\"El dataset cuenta con \\033[1m{} renglones\\033[0m y \\033[1m{} columnas\\033[0m \\n\".format(auto_df.shape[0], auto_df.shape[1]))\n",
    "auto_df.isnull().sum()"
   ]
  },
  {
   "cell_type": "code",
   "execution_count": 10,
   "metadata": {},
   "outputs": [
    {
     "data": {
      "text/html": [
       "<div>\n",
       "<style scoped>\n",
       "    .dataframe tbody tr th:only-of-type {\n",
       "        vertical-align: middle;\n",
       "    }\n",
       "\n",
       "    .dataframe tbody tr th {\n",
       "        vertical-align: top;\n",
       "    }\n",
       "\n",
       "    .dataframe thead th {\n",
       "        text-align: right;\n",
       "    }\n",
       "</style>\n",
       "<table border=\"1\" class=\"dataframe\">\n",
       "  <thead>\n",
       "    <tr style=\"text-align: right;\">\n",
       "      <th></th>\n",
       "      <th>antigüedad</th>\n",
       "      <th>cred_limit</th>\n",
       "      <th>antigüedad</th>\n",
       "      <th>edad_momen</th>\n",
       "    </tr>\n",
       "  </thead>\n",
       "  <tbody>\n",
       "    <tr>\n",
       "      <th>count</th>\n",
       "      <td>96374.000000</td>\n",
       "      <td>4.123700e+04</td>\n",
       "      <td>96374.000000</td>\n",
       "      <td>96370.000000</td>\n",
       "    </tr>\n",
       "    <tr>\n",
       "      <th>mean</th>\n",
       "      <td>10.999292</td>\n",
       "      <td>1.078769e+05</td>\n",
       "      <td>10.999292</td>\n",
       "      <td>43.403033</td>\n",
       "    </tr>\n",
       "    <tr>\n",
       "      <th>std</th>\n",
       "      <td>8.179960</td>\n",
       "      <td>1.599848e+05</td>\n",
       "      <td>8.179960</td>\n",
       "      <td>12.989597</td>\n",
       "    </tr>\n",
       "    <tr>\n",
       "      <th>min</th>\n",
       "      <td>0.000000</td>\n",
       "      <td>1.500000e+02</td>\n",
       "      <td>0.000000</td>\n",
       "      <td>2.171116</td>\n",
       "    </tr>\n",
       "    <tr>\n",
       "      <th>25%</th>\n",
       "      <td>3.720739</td>\n",
       "      <td>2.600000e+04</td>\n",
       "      <td>3.720739</td>\n",
       "      <td>32.558522</td>\n",
       "    </tr>\n",
       "    <tr>\n",
       "      <th>50%</th>\n",
       "      <td>10.672142</td>\n",
       "      <td>5.575000e+04</td>\n",
       "      <td>10.672142</td>\n",
       "      <td>41.949350</td>\n",
       "    </tr>\n",
       "    <tr>\n",
       "      <th>75%</th>\n",
       "      <td>16.758385</td>\n",
       "      <td>1.230000e+05</td>\n",
       "      <td>16.758385</td>\n",
       "      <td>53.466804</td>\n",
       "    </tr>\n",
       "    <tr>\n",
       "      <th>max</th>\n",
       "      <td>49.976728</td>\n",
       "      <td>6.100000e+06</td>\n",
       "      <td>49.976728</td>\n",
       "      <td>121.557837</td>\n",
       "    </tr>\n",
       "  </tbody>\n",
       "</table>\n",
       "</div>"
      ],
      "text/plain": [
       "         antigüedad    cred_limit    antigüedad    edad_momen\n",
       "count  96374.000000  4.123700e+04  96374.000000  96370.000000\n",
       "mean      10.999292  1.078769e+05     10.999292     43.403033\n",
       "std        8.179960  1.599848e+05      8.179960     12.989597\n",
       "min        0.000000  1.500000e+02      0.000000      2.171116\n",
       "25%        3.720739  2.600000e+04      3.720739     32.558522\n",
       "50%       10.672142  5.575000e+04     10.672142     41.949350\n",
       "75%       16.758385  1.230000e+05     16.758385     53.466804\n",
       "max       49.976728  6.100000e+06     49.976728    121.557837"
      ]
     },
     "execution_count": 10,
     "metadata": {},
     "output_type": "execute_result"
    }
   ],
   "source": [
    "auto_df[['antigüedad','cred_limit','antigüedad','edad_momen']].describe()"
   ]
  },
  {
   "cell_type": "code",
   "execution_count": 99,
   "metadata": {},
   "outputs": [
    {
     "data": {
      "text/plain": [
       "<Axes: xlabel='credito_ve', ylabel='antigüedad'>"
      ]
     },
     "execution_count": 99,
     "metadata": {},
     "output_type": "execute_result"
    },
    {
     "data": {
      "image/png": "[encoded data removed]",
      "text/plain": [
       "<Figure size 432x288 with 1 Axes>"
      ]
     },
     "metadata": {
      "needs_background": "light"
     },
     "output_type": "display_data"
    }
   ],
   "source": [
    "sns.boxplot(auto_df, y=\"antigüedad\", x=\"credito_ve\",showfliers = False)"
   ]
  },
  {
   "cell_type": "code",
   "execution_count": 100,
   "metadata": {},
   "outputs": [
    {
     "data": {
      "text/plain": [
       "<Axes: xlabel='credito_ve', ylabel='cred_limit'>"
      ]
     },
     "execution_count": 100,
     "metadata": {},
     "output_type": "execute_result"
    },
    {
     "data": {
      "image/png": "[encoded data removed]",
      "text/plain": [
       "<Figure size 432x288 with 1 Axes>"
      ]
     },
     "metadata": {
      "needs_background": "light"
     },
     "output_type": "display_data"
    }
   ],
   "source": [
    "\n",
    "sns.boxplot(auto_df, y=\"cred_limit\", x=\"credito_ve\",showfliers = False)"
   ]
  },
  {
   "cell_type": "code",
   "execution_count": 101,
   "metadata": {},
   "outputs": [
    {
     "data": {
      "text/plain": [
       "<Axes: xlabel='credito_ve', ylabel='avg_balanc'>"
      ]
     },
     "execution_count": 101,
     "metadata": {},
     "output_type": "execute_result"
    },
    {
     "data": {
      "image/png": "[encoded data removed]",
      "text/plain": [
       "<Figure size 432x288 with 1 Axes>"
      ]
     },
     "metadata": {
      "needs_background": "light"
     },
     "output_type": "display_data"
    }
   ],
   "source": [
    "sns.boxplot(auto_df, y=\"avg_balanc\", x=\"credito_ve\",showfliers = False)"
   ]
  },
  {
   "cell_type": "code",
   "execution_count": 102,
   "metadata": {},
   "outputs": [
    {
     "data": {
      "text/plain": [
       "<Axes: xlabel='credito_ve', ylabel='n_charge_stations'>"
      ]
     },
     "execution_count": 102,
     "metadata": {},
     "output_type": "execute_result"
    },
    {
     "data": {
      "image/png": "[encoded data removed]",
      "text/plain": [
       "<Figure size 432x288 with 1 Axes>"
      ]
     },
     "metadata": {
      "needs_background": "light"
     },
     "output_type": "display_data"
    }
   ],
   "source": [
    "\n",
    "sns.boxplot(auto_df, y=\"n_charge_stations\", x=\"credito_ve\",showfliers = False)"
   ]
  },
  {
   "cell_type": "code",
   "execution_count": 103,
   "metadata": {},
   "outputs": [
    {
     "data": {
      "text/plain": [
       "<Axes: xlabel='credito_ve', ylabel='edad_momen'>"
      ]
     },
     "execution_count": 103,
     "metadata": {},
     "output_type": "execute_result"
    },
    {
     "data": {
      "image/png": "[encoded data removed]",
      "text/plain": [
       "<Figure size 432x288 with 1 Axes>"
      ]
     },
     "metadata": {
      "needs_background": "light"
     },
     "output_type": "display_data"
    }
   ],
   "source": [
    "sns.boxplot(auto_df, y=\"edad_momen\", x=\"credito_ve\",showfliers = False)\n"
   ]
  },
  {
   "cell_type": "code",
   "execution_count": 104,
   "metadata": {},
   "outputs": [
    {
     "data": {
      "text/plain": [
       "<Axes: xlabel='credito_ve', ylabel='saving_cap'>"
      ]
     },
     "execution_count": 104,
     "metadata": {},
     "output_type": "execute_result"
    },
    {
     "data": {
      "image/png": "[encoded data removed]",
      "text/plain": [
       "<Figure size 432x288 with 1 Axes>"
      ]
     },
     "metadata": {
      "needs_background": "light"
     },
     "output_type": "display_data"
    }
   ],
   "source": [
    "\n",
    "sns.boxplot(auto_df, y=\"saving_cap\", x=\"credito_ve\",showfliers = False)"
   ]
  },
  {
   "cell_type": "code",
   "execution_count": 105,
   "metadata": {},
   "outputs": [
    {
     "data": {
      "text/plain": [
       "<Axes: xlabel='credito_ve', ylabel='liquidity_'>"
      ]
     },
     "execution_count": 105,
     "metadata": {},
     "output_type": "execute_result"
    },
    {
     "data": {
      "image/png": "[encoded data removed]",
      "text/plain": [
       "<Figure size 432x288 with 1 Axes>"
      ]
     },
     "metadata": {
      "needs_background": "light"
     },
     "output_type": "display_data"
    }
   ],
   "source": [
    "\n",
    "sns.boxplot(auto_df, y=\"liquidity_\", x=\"credito_ve\",showfliers = False)"
   ]
  },
  {
   "attachments": {},
   "cell_type": "markdown",
   "metadata": {},
   "source": [
    "Prueba de hipotesis"
   ]
  },
  {
   "cell_type": "code",
   "execution_count": 41,
   "metadata": {},
   "outputs": [],
   "source": [
    "#Separar base de datos en dos grupos por la variable credito verde\n",
    "groups = auto_df.groupby(auto_df.credito_ve)\n",
    "no_v_df = groups.get_group(0)\n",
    "v_df=groups.get_group(1)"
   ]
  },
  {
   "cell_type": "code",
   "execution_count": 42,
   "metadata": {},
   "outputs": [],
   "source": [
    "#Selecion de columna de interes\n",
    "no_v_df=no_v_df[\"n_charge_stations\"]\n",
    "v_df=v_df[\"n_charge_stations\"]\n"
   ]
  },
  {
   "cell_type": "code",
   "execution_count": 43,
   "metadata": {},
   "outputs": [],
   "source": [
    "#Quitamos valores nulos\n",
    "no_v_df=no_v_df.dropna()\n",
    "v_df=v_df.dropna()\n"
   ]
  },
  {
   "cell_type": "code",
   "execution_count": 44,
   "metadata": {},
   "outputs": [],
   "source": [
    "#Para la prueba de hipotesis requerimos que ambos df tengan el mismo tamaño por lo que hacemos una muestra aleatoria sobre los registros\n",
    "#que no indican tener un credito verde\n",
    "no_v_df_sample=no_v_df.sample(n=643, replace=True)"
   ]
  },
  {
   "cell_type": "code",
   "execution_count": 45,
   "metadata": {},
   "outputs": [
    {
     "data": {
      "text/plain": [
       "ShapiroResult(statistic=0.7900252938270569, pvalue=5.679117219873458e-28)"
      ]
     },
     "execution_count": 45,
     "metadata": {},
     "output_type": "execute_result"
    }
   ],
   "source": [
    "stats.shapiro(no_v_df_sample)"
   ]
  },
  {
   "cell_type": "code",
   "execution_count": 46,
   "metadata": {},
   "outputs": [
    {
     "data": {
      "text/plain": [
       "ShapiroResult(statistic=0.8283781409263611, pvalue=1.103678898979031e-25)"
      ]
     },
     "execution_count": 46,
     "metadata": {},
     "output_type": "execute_result"
    }
   ],
   "source": [
    "stats.shapiro(v_df)"
   ]
  },
  {
   "cell_type": "code",
   "execution_count": 47,
   "metadata": {},
   "outputs": [
    {
     "data": {
      "text/plain": [
       "WilcoxonResult(statistic=69932.5, pvalue=0.0004908124994892646)"
      ]
     },
     "execution_count": 47,
     "metadata": {},
     "output_type": "execute_result"
    }
   ],
   "source": [
    "#p-valae <0.05 \n",
    "#con la hipotesis nnula de que son inguales nos hace rechazar \n",
    "stats.wilcoxon(no_v_df_sample, v_df)"
   ]
  },
  {
   "attachments": {},
   "cell_type": "markdown",
   "metadata": {},
   "source": [
    "Regresión logistica"
   ]
  },
  {
   "cell_type": "code",
   "execution_count": 216,
   "metadata": {},
   "outputs": [],
   "source": [
    "#columnas de interes\n",
    "#seleciónamos \"cred_limit\" ya que en la sección de exploración vimos que las medias no se cruzan por lo que puede ser buen predictor\n",
    "logit_df =auto_df[[\"n_charge_stations\",\"cred_limit\",\"credito_ve\",'avg_balanc','antigüedad','edad_momen','saving_cap']].dropna()\n",
    "\n"
   ]
  },
  {
   "cell_type": "code",
   "execution_count": 217,
   "metadata": {},
   "outputs": [
    {
     "data": {
      "text/plain": [
       "0    23539\n",
       "1      316\n",
       "Name: credito_ve, dtype: int64"
      ]
     },
     "execution_count": 217,
     "metadata": {},
     "output_type": "execute_result"
    }
   ],
   "source": [
    "logit_df['credito_ve'].value_counts()"
   ]
  },
  {
   "cell_type": "code",
   "execution_count": 218,
   "metadata": {},
   "outputs": [
    {
     "data": {
      "text/html": [
       "<div>\n",
       "<style scoped>\n",
       "    .dataframe tbody tr th:only-of-type {\n",
       "        vertical-align: middle;\n",
       "    }\n",
       "\n",
       "    .dataframe tbody tr th {\n",
       "        vertical-align: top;\n",
       "    }\n",
       "\n",
       "    .dataframe thead th {\n",
       "        text-align: right;\n",
       "    }\n",
       "</style>\n",
       "<table border=\"1\" class=\"dataframe\">\n",
       "  <thead>\n",
       "    <tr style=\"text-align: right;\">\n",
       "      <th></th>\n",
       "      <th>n_charge_stations</th>\n",
       "      <th>cred_limit</th>\n",
       "      <th>credito_ve</th>\n",
       "      <th>avg_balanc</th>\n",
       "      <th>antigüedad</th>\n",
       "      <th>edad_momen</th>\n",
       "      <th>saving_cap</th>\n",
       "      <th>Numeros Aleatorios</th>\n",
       "    </tr>\n",
       "  </thead>\n",
       "  <tbody>\n",
       "    <tr>\n",
       "      <th>22</th>\n",
       "      <td>1.0</td>\n",
       "      <td>15795.00</td>\n",
       "      <td>0</td>\n",
       "      <td>850.06</td>\n",
       "      <td>13.828884</td>\n",
       "      <td>29.883641</td>\n",
       "      <td>-6.114102</td>\n",
       "      <td>0.665816</td>\n",
       "    </tr>\n",
       "    <tr>\n",
       "      <th>28</th>\n",
       "      <td>1.0</td>\n",
       "      <td>77400.00</td>\n",
       "      <td>0</td>\n",
       "      <td>647.76</td>\n",
       "      <td>14.160164</td>\n",
       "      <td>46.387406</td>\n",
       "      <td>-23.740175</td>\n",
       "      <td>0.638742</td>\n",
       "    </tr>\n",
       "    <tr>\n",
       "      <th>30</th>\n",
       "      <td>1.0</td>\n",
       "      <td>48300.00</td>\n",
       "      <td>0</td>\n",
       "      <td>2310.94</td>\n",
       "      <td>4.618754</td>\n",
       "      <td>26.940452</td>\n",
       "      <td>9.258851</td>\n",
       "      <td>0.680502</td>\n",
       "    </tr>\n",
       "    <tr>\n",
       "      <th>31</th>\n",
       "      <td>1.0</td>\n",
       "      <td>38782.56</td>\n",
       "      <td>0</td>\n",
       "      <td>1726.78</td>\n",
       "      <td>12.917180</td>\n",
       "      <td>39.734428</td>\n",
       "      <td>-1.487070</td>\n",
       "      <td>0.927397</td>\n",
       "    </tr>\n",
       "    <tr>\n",
       "      <th>32</th>\n",
       "      <td>1.0</td>\n",
       "      <td>26000.00</td>\n",
       "      <td>0</td>\n",
       "      <td>27609.97</td>\n",
       "      <td>12.117728</td>\n",
       "      <td>59.386721</td>\n",
       "      <td>-269.769139</td>\n",
       "      <td>0.887410</td>\n",
       "    </tr>\n",
       "    <tr>\n",
       "      <th>...</th>\n",
       "      <td>...</td>\n",
       "      <td>...</td>\n",
       "      <td>...</td>\n",
       "      <td>...</td>\n",
       "      <td>...</td>\n",
       "      <td>...</td>\n",
       "      <td>...</td>\n",
       "      <td>...</td>\n",
       "    </tr>\n",
       "    <tr>\n",
       "      <th>95855</th>\n",
       "      <td>1.0</td>\n",
       "      <td>111200.00</td>\n",
       "      <td>0</td>\n",
       "      <td>7284.83</td>\n",
       "      <td>4.082136</td>\n",
       "      <td>29.119781</td>\n",
       "      <td>23.600717</td>\n",
       "      <td>0.929410</td>\n",
       "    </tr>\n",
       "    <tr>\n",
       "      <th>95856</th>\n",
       "      <td>1.0</td>\n",
       "      <td>5400.00</td>\n",
       "      <td>0</td>\n",
       "      <td>12807.81</td>\n",
       "      <td>3.340178</td>\n",
       "      <td>28.377823</td>\n",
       "      <td>26.233276</td>\n",
       "      <td>0.406460</td>\n",
       "    </tr>\n",
       "    <tr>\n",
       "      <th>96108</th>\n",
       "      <td>1.0</td>\n",
       "      <td>188100.00</td>\n",
       "      <td>0</td>\n",
       "      <td>21471.21</td>\n",
       "      <td>20.062971</td>\n",
       "      <td>41.730322</td>\n",
       "      <td>-6.440134</td>\n",
       "      <td>0.014343</td>\n",
       "    </tr>\n",
       "    <tr>\n",
       "      <th>96109</th>\n",
       "      <td>1.0</td>\n",
       "      <td>111400.00</td>\n",
       "      <td>0</td>\n",
       "      <td>27385.61</td>\n",
       "      <td>15.597536</td>\n",
       "      <td>33.316906</td>\n",
       "      <td>-2.739187</td>\n",
       "      <td>0.330226</td>\n",
       "    </tr>\n",
       "    <tr>\n",
       "      <th>96250</th>\n",
       "      <td>1.0</td>\n",
       "      <td>21200.00</td>\n",
       "      <td>0</td>\n",
       "      <td>2342.32</td>\n",
       "      <td>9.839836</td>\n",
       "      <td>24.919918</td>\n",
       "      <td>6.179768</td>\n",
       "      <td>0.630093</td>\n",
       "    </tr>\n",
       "  </tbody>\n",
       "</table>\n",
       "<p>23855 rows × 8 columns</p>\n",
       "</div>"
      ],
      "text/plain": [
       "       n_charge_stations  cred_limit  credito_ve  avg_balanc  antigüedad  \\\n",
       "22                   1.0    15795.00           0      850.06   13.828884   \n",
       "28                   1.0    77400.00           0      647.76   14.160164   \n",
       "30                   1.0    48300.00           0     2310.94    4.618754   \n",
       "31                   1.0    38782.56           0     1726.78   12.917180   \n",
       "32                   1.0    26000.00           0    27609.97   12.117728   \n",
       "...                  ...         ...         ...         ...         ...   \n",
       "95855                1.0   111200.00           0     7284.83    4.082136   \n",
       "95856                1.0     5400.00           0    12807.81    3.340178   \n",
       "96108                1.0   188100.00           0    21471.21   20.062971   \n",
       "96109                1.0   111400.00           0    27385.61   15.597536   \n",
       "96250                1.0    21200.00           0     2342.32    9.839836   \n",
       "\n",
       "       edad_momen  saving_cap  Numeros Aleatorios  \n",
       "22      29.883641   -6.114102            0.665816  \n",
       "28      46.387406  -23.740175            0.638742  \n",
       "30      26.940452    9.258851            0.680502  \n",
       "31      39.734428   -1.487070            0.927397  \n",
       "32      59.386721 -269.769139            0.887410  \n",
       "...           ...         ...                 ...  \n",
       "95855   29.119781   23.600717            0.929410  \n",
       "95856   28.377823   26.233276            0.406460  \n",
       "96108   41.730322   -6.440134            0.014343  \n",
       "96109   33.316906   -2.739187            0.330226  \n",
       "96250   24.919918    6.179768            0.630093  \n",
       "\n",
       "[23855 rows x 8 columns]"
      ]
     },
     "execution_count": 218,
     "metadata": {},
     "output_type": "execute_result"
    }
   ],
   "source": [
    "\n",
    "# Generar una columna de números aleatorios\n",
    "num_aleatorios = np.random.random(size=len(logit_df))\n",
    "\n",
    "# Agregar la columna de números aleatorios al DataFrame\n",
    "logit_df['Numeros Aleatorios'] = num_aleatorios\n",
    "\n",
    "logit_df"
   ]
  },
  {
   "cell_type": "code",
   "execution_count": 219,
   "metadata": {},
   "outputs": [],
   "source": [
    "condicion1 = logit_df['Numeros Aleatorios'] > .95\n",
    "condicion2 = logit_df['credito_ve'] ==1\n",
    "logit_df= logit_df[condicion1 | condicion2]\n"
   ]
  },
  {
   "cell_type": "code",
   "execution_count": 220,
   "metadata": {},
   "outputs": [
    {
     "data": {
      "text/plain": [
       "0    1118\n",
       "1     316\n",
       "Name: credito_ve, dtype: int64"
      ]
     },
     "execution_count": 220,
     "metadata": {},
     "output_type": "execute_result"
    }
   ],
   "source": [
    "logit_df['credito_ve'].value_counts()"
   ]
  },
  {
   "cell_type": "code",
   "execution_count": 221,
   "metadata": {},
   "outputs": [],
   "source": [
    "logit_df=logit_df[[\"n_charge_stations\",\"cred_limit\",\"credito_ve\",'avg_balanc','antigüedad','edad_momen','saving_cap']]"
   ]
  },
  {
   "cell_type": "code",
   "execution_count": 222,
   "metadata": {},
   "outputs": [],
   "source": [
    "X = logit_df.drop(columns = 'credito_ve')\n",
    "y =logit_df['credito_ve']\n",
    "\n",
    "X_train, X_test, y_train, y_test = train_test_split(\n",
    "                                        X,\n",
    "                                        y.values.reshape(-1,1),\n",
    "                                        train_size   = 0.8,\n",
    "                                        random_state = 1234,\n",
    "                                        shuffle      = True\n",
    "                                    )"
   ]
  },
  {
   "cell_type": "code",
   "execution_count": 223,
   "metadata": {},
   "outputs": [
    {
     "name": "stdout",
     "output_type": "stream",
     "text": [
      "Optimization terminated successfully.\n",
      "         Current function value: 0.491632\n",
      "         Iterations 8\n",
      "                           Logit Regression Results                           \n",
      "==============================================================================\n",
      "Dep. Variable:                      y   No. Observations:                 1147\n",
      "Model:                          Logit   Df Residuals:                     1141\n",
      "Method:                           MLE   Df Model:                            5\n",
      "Date:                Mon, 26 Jun 2023   Pseudo R-squ.:                 0.06432\n",
      "Time:                        08:56:17   Log-Likelihood:                -563.90\n",
      "converged:                       True   LL-Null:                       -602.66\n",
      "Covariance Type:            nonrobust   LLR p-value:                 2.767e-15\n",
      "=====================================================================================\n",
      "                        coef    std err          z      P>|z|      [0.025      0.975]\n",
      "-------------------------------------------------------------------------------------\n",
      "n_charge_stations    -0.0238      0.012     -2.018      0.044      -0.047      -0.001\n",
      "cred_limit         3.291e-06   4.75e-07      6.934      0.000    2.36e-06    4.22e-06\n",
      "avg_balanc         1.003e-06   2.92e-07      3.441      0.001    4.32e-07    1.57e-06\n",
      "antigüedad            0.0575      0.013      4.347      0.000       0.032       0.083\n",
      "edad_momen           -0.0576      0.005    -10.783      0.000      -0.068      -0.047\n",
      "saving_cap            0.0001      0.000      0.320      0.749      -0.001       0.001\n",
      "=====================================================================================\n"
     ]
    }
   ],
   "source": [
    "#X_train = sm.add_constant(X_train, prepend=True)\n",
    "modelo = sm.Logit(endog=y_train, exog=X_train)\n",
    "modelo = modelo.fit()\n",
    "print(modelo.summary())\n"
   ]
  },
  {
   "cell_type": "code",
   "execution_count": 224,
   "metadata": {},
   "outputs": [
    {
     "name": "stdout",
     "output_type": "stream",
     "text": [
      "\n",
      "El accuracy de test es: 81.53310104529616%\n"
     ]
    }
   ],
   "source": [
    "#X_test = sm.add_constant(X_test, prepend=True)\n",
    "predicciones = modelo.predict(exog = X_test)\n",
    "clasificacion = np.where(predicciones<0.5, 0, 1)\n",
    "\n",
    "accuracy = accuracy_score(\n",
    "            y_true    = y_test,\n",
    "            y_pred    = clasificacion,\n",
    "            normalize = True\n",
    "           )\n",
    "print(\"\")\n",
    "print(f\"El accuracy de test es: {100*accuracy}%\")\n",
    "\n"
   ]
  },
  {
   "cell_type": "code",
   "execution_count": 225,
   "metadata": {},
   "outputs": [
    {
     "data": {
      "text/html": [
       "<div>\n",
       "<style scoped>\n",
       "    .dataframe tbody tr th:only-of-type {\n",
       "        vertical-align: middle;\n",
       "    }\n",
       "\n",
       "    .dataframe tbody tr th {\n",
       "        vertical-align: top;\n",
       "    }\n",
       "\n",
       "    .dataframe thead th {\n",
       "        text-align: right;\n",
       "    }\n",
       "</style>\n",
       "<table border=\"1\" class=\"dataframe\">\n",
       "  <thead>\n",
       "    <tr style=\"text-align: right;\">\n",
       "      <th>Predicción</th>\n",
       "      <th>0</th>\n",
       "      <th>1</th>\n",
       "    </tr>\n",
       "    <tr>\n",
       "      <th>Real</th>\n",
       "      <th></th>\n",
       "      <th></th>\n",
       "    </tr>\n",
       "  </thead>\n",
       "  <tbody>\n",
       "    <tr>\n",
       "      <th>0</th>\n",
       "      <td>217</td>\n",
       "      <td>5</td>\n",
       "    </tr>\n",
       "    <tr>\n",
       "      <th>1</th>\n",
       "      <td>48</td>\n",
       "      <td>17</td>\n",
       "    </tr>\n",
       "  </tbody>\n",
       "</table>\n",
       "</div>"
      ],
      "text/plain": [
       "Predicción    0   1\n",
       "Real               \n",
       "0           217   5\n",
       "1            48  17"
      ]
     },
     "execution_count": 225,
     "metadata": {},
     "output_type": "execute_result"
    }
   ],
   "source": [
    "confusion_matrix = pd.crosstab(\n",
    "    y_test.ravel(),\n",
    "    clasificacion,\n",
    "    rownames=['Real'],\n",
    "    colnames=['Predicción']\n",
    ")\n",
    "confusion_matrix"
   ]
  },
  {
   "cell_type": "code",
   "execution_count": 226,
   "metadata": {},
   "outputs": [
    {
     "name": "stdout",
     "output_type": "stream",
     "text": [
      "Optimization terminated successfully.\n",
      "         Current function value: 0.523446\n",
      "         Iterations 8\n",
      "                           Logit Regression Results                           \n",
      "==============================================================================\n",
      "Dep. Variable:                      y   No. Observations:                 1147\n",
      "Model:                          Logit   Df Residuals:                     1143\n",
      "Method:                           MLE   Df Model:                            3\n",
      "Date:                Mon, 26 Jun 2023   Pseudo R-squ.:                0.003767\n",
      "Time:                        08:57:30   Log-Likelihood:                -600.39\n",
      "converged:                       True   LL-Null:                       -602.66\n",
      "Covariance Type:            nonrobust   LLR p-value:                    0.2087\n",
      "=====================================================================================\n",
      "                        coef    std err          z      P>|z|      [0.025      0.975]\n",
      "-------------------------------------------------------------------------------------\n",
      "n_charge_stations    -0.0161      0.011     -1.423      0.155      -0.038       0.006\n",
      "antigüedad            0.0864      0.012      7.052      0.000       0.062       0.110\n",
      "edad_momen           -0.0545      0.005    -10.633      0.000      -0.065      -0.044\n",
      "saving_cap            0.0002      0.000      0.520      0.603      -0.001       0.001\n",
      "=====================================================================================\n"
     ]
    }
   ],
   "source": [
    "logit_df=logit_df[[\"n_charge_stations\",\"credito_ve\",'antigüedad','edad_momen','saving_cap']]\n",
    "X = logit_df.drop(columns = 'credito_ve')\n",
    "y =logit_df['credito_ve']\n",
    "\n",
    "X_train, X_test, y_train, y_test = train_test_split(\n",
    "                                        X,\n",
    "                                        y.values.reshape(-1,1),\n",
    "                                        train_size   = 0.8,\n",
    "                                        random_state = 1234,\n",
    "                                        shuffle      = True\n",
    "                                    )\n",
    "#X_train = sm.add_constant(X_train, prepend=True)\n",
    "modelo = sm.Logit(endog=y_train, exog=X_train)\n",
    "modelo = modelo.fit()\n",
    "print(modelo.summary())"
   ]
  },
  {
   "cell_type": "code",
   "execution_count": 227,
   "metadata": {},
   "outputs": [
    {
     "name": "stdout",
     "output_type": "stream",
     "text": [
      "\n",
      "El accuracy de test es: 77.35191637630662%\n"
     ]
    }
   ],
   "source": [
    "#X_test = sm.add_constant(X_test, prepend=True)\n",
    "predicciones = modelo.predict(exog = X_test)\n",
    "clasificacion = np.where(predicciones<0.5, 0, 1)\n",
    "\n",
    "accuracy = accuracy_score(\n",
    "            y_true    = y_test,\n",
    "            y_pred    = clasificacion,\n",
    "            normalize = True\n",
    "           )\n",
    "print(\"\")\n",
    "print(f\"El accuracy de test es: {100*accuracy}%\")\n"
   ]
  },
  {
   "cell_type": "code",
   "execution_count": 228,
   "metadata": {},
   "outputs": [
    {
     "data": {
      "text/html": [
       "<div>\n",
       "<style scoped>\n",
       "    .dataframe tbody tr th:only-of-type {\n",
       "        vertical-align: middle;\n",
       "    }\n",
       "\n",
       "    .dataframe tbody tr th {\n",
       "        vertical-align: top;\n",
       "    }\n",
       "\n",
       "    .dataframe thead th {\n",
       "        text-align: right;\n",
       "    }\n",
       "</style>\n",
       "<table border=\"1\" class=\"dataframe\">\n",
       "  <thead>\n",
       "    <tr style=\"text-align: right;\">\n",
       "      <th>Predicción</th>\n",
       "      <th>0</th>\n",
       "      <th>1</th>\n",
       "    </tr>\n",
       "    <tr>\n",
       "      <th>Real</th>\n",
       "      <th></th>\n",
       "      <th></th>\n",
       "    </tr>\n",
       "  </thead>\n",
       "  <tbody>\n",
       "    <tr>\n",
       "      <th>0</th>\n",
       "      <td>221</td>\n",
       "      <td>1</td>\n",
       "    </tr>\n",
       "    <tr>\n",
       "      <th>1</th>\n",
       "      <td>64</td>\n",
       "      <td>1</td>\n",
       "    </tr>\n",
       "  </tbody>\n",
       "</table>\n",
       "</div>"
      ],
      "text/plain": [
       "Predicción    0  1\n",
       "Real              \n",
       "0           221  1\n",
       "1            64  1"
      ]
     },
     "execution_count": 228,
     "metadata": {},
     "output_type": "execute_result"
    }
   ],
   "source": [
    "confusion_matrix = pd.crosstab(\n",
    "    y_test.ravel(),\n",
    "    clasificacion,\n",
    "    rownames=['Real'],\n",
    "    colnames=['Predicción']\n",
    ")\n",
    "confusion_matrix"
   ]
  }
 ],
 "metadata": {
  "kernelspec": {
   "display_name": "Python 3",
   "language": "python",
   "name": "python3"
  },
  "language_info": {
   "codemirror_mode": {
    "name": "ipython",
    "version": 3
   },
   "file_extension": ".py",
   "mimetype": "text/x-python",
   "name": "python",
   "nbconvert_exporter": "python",
   "pygments_lexer": "ipython3",
   "version": "3.10.5"
  },
  "orig_nbformat": 4
 },
 "nbformat": 4,
 "nbformat_minor": 2
}
